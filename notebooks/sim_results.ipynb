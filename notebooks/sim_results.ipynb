{
 "cells": [
  {
   "cell_type": "code",
   "execution_count": 48,
   "metadata": {},
   "outputs": [],
   "source": [
    "import os\n",
    "import pandas as pd\n",
    "import yaml\n",
    "import numpy as np"
   ]
  },
  {
   "cell_type": "code",
   "execution_count": 49,
   "metadata": {},
   "outputs": [],
   "source": [
    "tgtdir = \"../results-sim4/nonlinear/effects\"\n",
    "methods = os.listdir(tgtdir)\n",
    "nseeds = 10"
   ]
  },
  {
   "cell_type": "code",
   "execution_count": 50,
   "metadata": {},
   "outputs": [
    {
     "data": {
      "text/html": [
       "<div>\n",
       "<style scoped>\n",
       "    .dataframe tbody tr th:only-of-type {\n",
       "        vertical-align: middle;\n",
       "    }\n",
       "\n",
       "    .dataframe tbody tr th {\n",
       "        vertical-align: top;\n",
       "    }\n",
       "\n",
       "    .dataframe thead th {\n",
       "        text-align: right;\n",
       "    }\n",
       "</style>\n",
       "<table border=\"1\" class=\"dataframe\">\n",
       "  <thead>\n",
       "    <tr style=\"text-align: right;\">\n",
       "      <th></th>\n",
       "      <th>ate_error</th>\n",
       "      <th>effect_estimate</th>\n",
       "      <th>seed</th>\n",
       "      <th>method</th>\n",
       "    </tr>\n",
       "  </thead>\n",
       "  <tbody>\n",
       "    <tr>\n",
       "      <th>0</th>\n",
       "      <td>-0.605032</td>\n",
       "      <td>-0.505032</td>\n",
       "      <td>0</td>\n",
       "      <td>tsne</td>\n",
       "    </tr>\n",
       "    <tr>\n",
       "      <th>1</th>\n",
       "      <td>-0.628968</td>\n",
       "      <td>-0.528968</td>\n",
       "      <td>1</td>\n",
       "      <td>tsne</td>\n",
       "    </tr>\n",
       "    <tr>\n",
       "      <th>2</th>\n",
       "      <td>-0.552815</td>\n",
       "      <td>-0.452815</td>\n",
       "      <td>2</td>\n",
       "      <td>tsne</td>\n",
       "    </tr>\n",
       "    <tr>\n",
       "      <th>3</th>\n",
       "      <td>-0.557842</td>\n",
       "      <td>-0.457842</td>\n",
       "      <td>3</td>\n",
       "      <td>tsne</td>\n",
       "    </tr>\n",
       "    <tr>\n",
       "      <th>4</th>\n",
       "      <td>-0.603637</td>\n",
       "      <td>-0.503637</td>\n",
       "      <td>4</td>\n",
       "      <td>tsne</td>\n",
       "    </tr>\n",
       "  </tbody>\n",
       "</table>\n",
       "</div>"
      ],
      "text/plain": [
       "   ate_error  effect_estimate  seed method\n",
       "0  -0.605032        -0.505032     0   tsne\n",
       "1  -0.628968        -0.528968     1   tsne\n",
       "2  -0.552815        -0.452815     2   tsne\n",
       "3  -0.557842        -0.457842     3   tsne\n",
       "4  -0.603637        -0.503637     4   tsne"
      ]
     },
     "execution_count": 50,
     "metadata": {},
     "output_type": "execute_result"
    }
   ],
   "source": [
    "rows = []\n",
    "for m in methods:\n",
    "    for s in range(nseeds):\n",
    "        try:\n",
    "            path = f\"{tgtdir}/{m}/{s:03d}/effect.yaml\"\n",
    "            with open(path, 'r') as io:\n",
    "                metrics = yaml.load(io, yaml.SafeLoader)\n",
    "            metrics.update(dict(seed=s, method=m))\n",
    "            rows.append(metrics)\n",
    "        except:\n",
    "            print(f\"failed to load {path}\")\n",
    "df = pd.DataFrame(rows)\n",
    "df.head()"
   ]
  },
  {
   "cell_type": "code",
   "execution_count": 51,
   "metadata": {},
   "outputs": [
    {
     "data": {
      "text/html": [
       "<div>\n",
       "<style scoped>\n",
       "    .dataframe tbody tr th:only-of-type {\n",
       "        vertical-align: middle;\n",
       "    }\n",
       "\n",
       "    .dataframe tbody tr th {\n",
       "        vertical-align: top;\n",
       "    }\n",
       "\n",
       "    .dataframe thead th {\n",
       "        text-align: right;\n",
       "    }\n",
       "</style>\n",
       "<table border=\"1\" class=\"dataframe\">\n",
       "  <thead>\n",
       "    <tr style=\"text-align: right;\">\n",
       "      <th>method</th>\n",
       "      <th>pca</th>\n",
       "      <th>cvae</th>\n",
       "      <th>crae</th>\n",
       "      <th>unet</th>\n",
       "      <th>wx</th>\n",
       "      <th>local</th>\n",
       "      <th>avg</th>\n",
       "      <th>unet_sup</th>\n",
       "      <th>car</th>\n",
       "      <th>unet_sup_car</th>\n",
       "      <th>resnet_sup</th>\n",
       "      <th>resnet</th>\n",
       "    </tr>\n",
       "  </thead>\n",
       "  <tbody>\n",
       "    <tr>\n",
       "      <th>bias</th>\n",
       "      <td>0.16</td>\n",
       "      <td>0.60</td>\n",
       "      <td>0.21</td>\n",
       "      <td>0.18</td>\n",
       "      <td>0.21</td>\n",
       "      <td>0.59</td>\n",
       "      <td>0.60</td>\n",
       "      <td>0.34</td>\n",
       "      <td>0.60</td>\n",
       "      <td>0.27</td>\n",
       "      <td>0.05</td>\n",
       "      <td>0.18</td>\n",
       "    </tr>\n",
       "    <tr>\n",
       "      <th>mse</th>\n",
       "      <td>0.29</td>\n",
       "      <td>3.58</td>\n",
       "      <td>0.47</td>\n",
       "      <td>0.39</td>\n",
       "      <td>0.46</td>\n",
       "      <td>3.54</td>\n",
       "      <td>3.55</td>\n",
       "      <td>1.35</td>\n",
       "      <td>3.58</td>\n",
       "      <td>1.52</td>\n",
       "      <td>0.08</td>\n",
       "      <td>0.36</td>\n",
       "    </tr>\n",
       "  </tbody>\n",
       "</table>\n",
       "</div>"
      ],
      "text/plain": [
       "method   pca  cvae  crae  unet    wx  local   avg  unet_sup   car  \\\n",
       "bias    0.16  0.60  0.21  0.18  0.21   0.59  0.60      0.34  0.60   \n",
       "mse     0.29  3.58  0.47  0.39  0.46   3.54  3.55      1.35  3.58   \n",
       "\n",
       "method  unet_sup_car  resnet_sup  resnet  \n",
       "bias            0.27        0.05    0.18  \n",
       "mse             1.52        0.08    0.36  "
      ]
     },
     "execution_count": 51,
     "metadata": {},
     "output_type": "execute_result"
    }
   ],
   "source": [
    "\n",
    "order = [\"pca\", \"cvae\", \"crae\", \"unet\", \"wx\", \"local\", \"avg\", \"unet_sup\", \"car\", \"unet_sup_car\", \"resnet_sup\", \"resnet\"]\n",
    "(df\n",
    "    .groupby(\"method\")\n",
    "    .agg(\n",
    "        bias=(\"ate_error\", lambda x: np.abs(x.mean())),\n",
    "        mse=(\"ate_error\", lambda x: np.sum(np.square(x)))\n",
    "    )\n",
    ").round(2).T[order]"
   ]
  },
  {
   "cell_type": "code",
   "execution_count": 52,
   "metadata": {},
   "outputs": [
    {
     "data": {
      "text/plain": [
       "(130, 4)"
      ]
     },
     "execution_count": 52,
     "metadata": {},
     "output_type": "execute_result"
    }
   ],
   "source": [
    "df.shape"
   ]
  }
 ],
 "metadata": {
  "kernelspec": {
   "display_name": "Python 3.10.4 ('cuda116')",
   "language": "python",
   "name": "python3"
  },
  "language_info": {
   "codemirror_mode": {
    "name": "ipython",
    "version": 3
   },
   "file_extension": ".py",
   "mimetype": "text/x-python",
   "name": "python",
   "nbconvert_exporter": "python",
   "pygments_lexer": "ipython3",
   "version": "3.10.4"
  },
  "orig_nbformat": 4,
  "vscode": {
   "interpreter": {
    "hash": "77ddfad6c50309a194516020d2df15846e77d73f6e54ddeae4b22267380382d7"
   }
  }
 },
 "nbformat": 4,
 "nbformat_minor": 2
}
